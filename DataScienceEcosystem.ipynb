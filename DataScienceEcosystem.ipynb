{
 "cells": [
  {
   "cell_type": "markdown",
   "id": "300a282c-c1fb-42ba-b5b2-35abf7cc91dd",
   "metadata": {},
   "source": [
    "# Data Science Tools and Ecosystem"
   ]
  },
  {
   "cell_type": "markdown",
   "id": "6a476b77-aaa1-44da-96b1-7249d6fc3e3a",
   "metadata": {},
   "source": [
    "# Data Science Tools and Ecosystem"
   ]
  },
  {
   "cell_type": "markdown",
   "id": "c576c64c-9ee1-49a6-b715-39840ae4db1d",
   "metadata": {},
   "source": [
    "In this notebook you will learn about the different tools for data science and their application. "
   ]
  },
  {
   "cell_type": "markdown",
   "id": "e1704e4d-cee7-4402-8ac7-6dd41ba203c1",
   "metadata": {},
   "source": [
    "Some of the popular languages that Data Scientists use are:\n",
    "1. PYTHON \n",
    "2. R \n",
    "3. SQL"
   ]
  },
  {
   "cell_type": "markdown",
   "id": "28078e6b-049b-4252-8262-117853256f27",
   "metadata": {
    "tags": []
   },
   "source": [
    "Some of the popular languages that Data Scientists use are:\n",
    "1. PYTHON \n",
    "2. R \n",
    "3. SQL"
   ]
  },
  {
   "cell_type": "markdown",
   "id": "4b753e72-9cb7-46cf-97d1-8fcbead43a52",
   "metadata": {},
   "source": [
    "Some of the commonly used libraries used by Data Scientists include:\n",
    "1. Numpy \n",
    "2. Pandas \n",
    "3. keras "
   ]
  },
  {
   "cell_type": "markdown",
   "id": "1c897cd4-dec9-4c80-849d-6d3c0dad5931",
   "metadata": {},
   "source": [
    "Some of the commonly used libraries used by Data Scientists include:\n",
    "1. Numpy \n",
    "2. Pandas \n",
    "3. keras "
   ]
  },
  {
   "cell_type": "markdown",
   "id": "601dcac1-c47f-4750-9bb2-bea5d0e64555",
   "metadata": {
    "tags": []
   },
   "source": [
    "|Data Science Tools|\n",
    "|------------------|\n",
    "|     R studio     |\n",
    "|   Anaconda       |\n",
    "|Jupyther notebooks|"
   ]
  },
  {
   "cell_type": "markdown",
   "id": "8cc75e37-a922-4dec-9c9a-a61db3a85d5b",
   "metadata": {
    "tags": []
   },
   "source": [
    "|Data Science Tools|\n",
    "|------------------|\n",
    "|     R studio     |\n",
    "|   Anaconda       |\n",
    "|Jupyther notebooks|"
   ]
  },
  {
   "cell_type": "markdown",
   "id": "9a821935-3684-4e75-b64b-b20febaf9f17",
   "metadata": {},
   "source": [
    "### Below are a few examples of evaluating arithmetic expressions in Python"
   ]
  },
  {
   "cell_type": "markdown",
   "id": "490c2214-7a12-4ce9-b140-c73a31a29c10",
   "metadata": {},
   "source": [
    "### Below are a few examples of evaluating arithmetic expressions in Python"
   ]
  },
  {
   "cell_type": "code",
   "execution_count": 6,
   "id": "c1ddc2c8-397f-44c0-924c-e6c3c2af3600",
   "metadata": {
    "tags": []
   },
   "outputs": [
    {
     "data": {
      "text/plain": [
       "17"
      ]
     },
     "execution_count": 6,
     "metadata": {},
     "output_type": "execute_result"
    }
   ],
   "source": [
    "(3*4)+5"
   ]
  },
  {
   "cell_type": "code",
   "execution_count": 7,
   "id": "7135f43a-d3d9-4564-ae94-e2a25cc7e243",
   "metadata": {
    "tags": []
   },
   "outputs": [],
   "source": [
    "#This a simple arithmetic expression to mutiply then add integers"
   ]
  },
  {
   "cell_type": "code",
   "execution_count": 10,
   "id": "a647e552-5925-4f5b-830c-eb85c90d99fc",
   "metadata": {
    "tags": []
   },
   "outputs": [
    {
     "name": "stdout",
     "output_type": "stream",
     "text": [
      "the value in hours is 3.3333333333333335 hours\n"
     ]
    }
   ],
   "source": [
    "#Define the value in minutes \n",
    "minutes= 200 \n",
    "\n",
    "#converts minutes to hours \n",
    "Hours= minutes/60 \n",
    "\n",
    "print(f\"the value in hours is {Hours} hours\")"
   ]
  },
  {
   "cell_type": "code",
   "execution_count": 12,
   "id": "14a40d85-ea0a-4071-ae0c-a8ea653edf97",
   "metadata": {
    "tags": []
   },
   "outputs": [],
   "source": [
    "#This will convert 200 minutes to hours by diving by 60"
   ]
  },
  {
   "cell_type": "markdown",
   "id": "884d5d41-026c-4c51-bec5-cd8cc0e1f2a8",
   "metadata": {},
   "source": [
    "*objetives*\n",
    "- create markdowns \n",
    "- add comments to code \n",
    "- create tables \n",
    "- add unordered list "
   ]
  },
  {
   "cell_type": "markdown",
   "id": "4c59d55c-a2ce-440a-878e-4775e622740d",
   "metadata": {},
   "source": [
    "*objetives*\n",
    "- create markdowns \n",
    "- add comments to code \n",
    "- create tables \n",
    "- add unordered list "
   ]
  },
  {
   "cell_type": "markdown",
   "id": "bc36a493-973f-48ce-87b1-500ace8d1bd2",
   "metadata": {},
   "source": [
    "## Author's \n",
    "URIEL ANTONIO PEREZ FLORES "
   ]
  },
  {
   "cell_type": "markdown",
   "id": "2f36fd08-5938-4217-a547-8da153796e96",
   "metadata": {},
   "source": [
    "## Author's \n",
    "URIEL ANTONIO PEREZ FLORES "
   ]
  }
 ],
 "metadata": {
  "kernelspec": {
   "display_name": "Python",
   "language": "python",
   "name": "conda-env-python-py"
  },
  "language_info": {
   "codemirror_mode": {
    "name": "ipython",
    "version": 3
   },
   "file_extension": ".py",
   "mimetype": "text/x-python",
   "name": "python",
   "nbconvert_exporter": "python",
   "pygments_lexer": "ipython3",
   "version": "3.7.12"
  }
 },
 "nbformat": 4,
 "nbformat_minor": 5
}
